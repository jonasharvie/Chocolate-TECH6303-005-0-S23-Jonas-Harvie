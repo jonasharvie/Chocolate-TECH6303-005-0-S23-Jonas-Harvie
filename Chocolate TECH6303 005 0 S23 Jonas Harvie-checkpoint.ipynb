{
 "cells": [
  {
   "cell_type": "code",
   "execution_count": null,
   "id": "1995354b",
   "metadata": {},
   "outputs": [],
   "source": [
    "\"\"\"\n",
    "Expected Output\n",
    "By the end of this mini project, you will need to deliver within your code:\n",
    "\n",
    "    the count of the tuples in the given dataset;\n",
    "    the count of the names of unique company names from the attributes;\n",
    "    the count of reviews in 2013 from the attributes;\n",
    "    the count of missing values in a Specifically given;\n",
    "    an output plot of the histogram of the values in the column named “Ratings;”.\n",
    "    an output plot of the scatter plot between the cocoa percent values against the rating values; and\n",
    "    the normalized ratings column values.\n",
    "\n",
    "You are expected to write around 25 lines of code to complete this project. \n",
    "\"\"\""
   ]
  },
  {
   "cell_type": "code",
   "execution_count": 5,
   "id": "0fbcd5a5",
   "metadata": {},
   "outputs": [
    {
     "data": {
      "text/html": [
       "<div>\n",
       "<style scoped>\n",
       "    .dataframe tbody tr th:only-of-type {\n",
       "        vertical-align: middle;\n",
       "    }\n",
       "\n",
       "    .dataframe tbody tr th {\n",
       "        vertical-align: top;\n",
       "    }\n",
       "\n",
       "    .dataframe thead th {\n",
       "        text-align: right;\n",
       "    }\n",
       "</style>\n",
       "<table border=\"1\" class=\"dataframe\">\n",
       "  <thead>\n",
       "    <tr style=\"text-align: right;\">\n",
       "      <th></th>\n",
       "      <th>Company</th>\n",
       "      <th>SpecificBeanOrigin</th>\n",
       "      <th>REF</th>\n",
       "      <th>ReviewDate</th>\n",
       "      <th>CocoaPercent</th>\n",
       "      <th>CompanyLocation</th>\n",
       "      <th>Rating</th>\n",
       "      <th>BeanType</th>\n",
       "      <th>BroadBeanOrigin</th>\n",
       "    </tr>\n",
       "  </thead>\n",
       "  <tbody>\n",
       "    <tr>\n",
       "      <th>0</th>\n",
       "      <td>A. Morin</td>\n",
       "      <td>Agua Grande</td>\n",
       "      <td>1876</td>\n",
       "      <td>2016</td>\n",
       "      <td>63%</td>\n",
       "      <td>France</td>\n",
       "      <td>3.75</td>\n",
       "      <td></td>\n",
       "      <td>Sao Tome</td>\n",
       "    </tr>\n",
       "    <tr>\n",
       "      <th>1</th>\n",
       "      <td>A. Morin</td>\n",
       "      <td>Kpime</td>\n",
       "      <td>1676</td>\n",
       "      <td>2015</td>\n",
       "      <td>70%</td>\n",
       "      <td>France</td>\n",
       "      <td>2.75</td>\n",
       "      <td></td>\n",
       "      <td>Togo</td>\n",
       "    </tr>\n",
       "    <tr>\n",
       "      <th>2</th>\n",
       "      <td>A. Morin</td>\n",
       "      <td>Atsane</td>\n",
       "      <td>1676</td>\n",
       "      <td>2015</td>\n",
       "      <td>70%</td>\n",
       "      <td>France</td>\n",
       "      <td>3.00</td>\n",
       "      <td></td>\n",
       "      <td>Togo</td>\n",
       "    </tr>\n",
       "    <tr>\n",
       "      <th>3</th>\n",
       "      <td>A. Morin</td>\n",
       "      <td>Akata</td>\n",
       "      <td>1680</td>\n",
       "      <td>2015</td>\n",
       "      <td>70%</td>\n",
       "      <td>France</td>\n",
       "      <td>3.50</td>\n",
       "      <td></td>\n",
       "      <td>Togo</td>\n",
       "    </tr>\n",
       "    <tr>\n",
       "      <th>4</th>\n",
       "      <td>A. Morin</td>\n",
       "      <td>Quilla</td>\n",
       "      <td>1704</td>\n",
       "      <td>2015</td>\n",
       "      <td>70%</td>\n",
       "      <td>France</td>\n",
       "      <td>3.50</td>\n",
       "      <td></td>\n",
       "      <td>Peru</td>\n",
       "    </tr>\n",
       "  </tbody>\n",
       "</table>\n",
       "</div>"
      ],
      "text/plain": [
       "    Company SpecificBeanOrigin   REF  ReviewDate CocoaPercent CompanyLocation  \\\n",
       "0  A. Morin        Agua Grande  1876        2016          63%          France   \n",
       "1  A. Morin              Kpime  1676        2015          70%          France   \n",
       "2  A. Morin             Atsane  1676        2015          70%          France   \n",
       "3  A. Morin              Akata  1680        2015          70%          France   \n",
       "4  A. Morin             Quilla  1704        2015          70%          France   \n",
       "\n",
       "   Rating BeanType BroadBeanOrigin  \n",
       "0    3.75                 Sao Tome  \n",
       "1    2.75                     Togo  \n",
       "2    3.00                     Togo  \n",
       "3    3.50                     Togo  \n",
       "4    3.50                     Peru  "
      ]
     },
     "execution_count": 5,
     "metadata": {},
     "output_type": "execute_result"
    }
   ],
   "source": [
    "import pandas as pd\n",
    "df = pd.read_csv(\"flavors_of_cacao.csv\")\n",
    "\n",
    "\n",
    "df.columns\n",
    "df.columns = ['Company', 'SpecificBeanOrigin','REF', 'ReviewDate', 'CocoaPercent', 'CompanyLocation', \n",
    "              'Rating','BeanType', 'BroadBeanOrigin']\n",
    "df.head()\n"
   ]
  },
  {
   "cell_type": "code",
   "execution_count": 6,
   "id": "762b10a9",
   "metadata": {},
   "outputs": [
    {
     "data": {
      "text/plain": [
       "1795"
      ]
     },
     "execution_count": 6,
     "metadata": {},
     "output_type": "execute_result"
    }
   ],
   "source": [
    "# How many tuples are there in the dataset? \n",
    "len(df)"
   ]
  },
  {
   "cell_type": "code",
   "execution_count": 11,
   "id": "31d8f456",
   "metadata": {},
   "outputs": [
    {
     "name": "stdout",
     "output_type": "stream",
     "text": [
      "416\n"
     ]
    }
   ],
   "source": [
    "# How many unique company names are there in the dataset? \n",
    "df['Company'].nunique()"
   ]
  },
  {
   "cell_type": "code",
   "execution_count": 25,
   "id": "c04927df",
   "metadata": {},
   "outputs": [
    {
     "data": {
      "text/plain": [
       "184"
      ]
     },
     "execution_count": 25,
     "metadata": {},
     "output_type": "execute_result"
    }
   ],
   "source": [
    "# How many reviews are made in 2013 in the dataset? \n",
    "\n",
    "len(df[df.ReviewDate == 2013])"
   ]
  },
  {
   "cell_type": "code",
   "execution_count": 29,
   "id": "5c491739",
   "metadata": {},
   "outputs": [
    {
     "data": {
      "text/plain": [
       "887"
      ]
     },
     "execution_count": 29,
     "metadata": {},
     "output_type": "execute_result"
    }
   ],
   "source": [
    "# In the BeanType column, how many missing values are there? \n",
    "\n",
    "df['BeanType'][0]\n",
    "len(df[df['BeanType'] == '\\xa0'])"
   ]
  },
  {
   "cell_type": "code",
   "execution_count": 86,
   "id": "d219abe5",
   "metadata": {},
   "outputs": [
    {
     "data": {
      "text/plain": [
       "Text(0, 0.5, 'Rating Value Frequency')"
      ]
     },
     "execution_count": 86,
     "metadata": {},
     "output_type": "execute_result"
    },
    {
     "data": {
      "image/png": "[encoded data removed]",
      "text/plain": [
       "<Figure size 1600x500 with 1 Axes>"
      ]
     },
     "metadata": {},
     "output_type": "display_data"
    }
   ],
   "source": [
    "# Visualize the rating column with a histogram!\n",
    "import matplotlib.pyplot as plt\n",
    "\n",
    "ratings = df['Rating'].values\n",
    "\n",
    "plt.figure(figsize = (16,5))\n",
    "plt.hist(ratings, bins = 4)\n",
    "plt.title('Rating Value Frequency')\n",
    "plt.xlabel(\"Ratings\")\n",
    "plt.ylabel(\"Rating Value Frequency\")"
   ]
  },
  {
   "cell_type": "code",
   "execution_count": null,
   "id": "1ee2f49d",
   "metadata": {},
   "outputs": [],
   "source": [
    "# Comment on the resulting figure! \n",
    "# the vast majority of the ratings are between 3 and 4"
   ]
  },
  {
   "cell_type": "code",
   "execution_count": 87,
   "id": "b88b7074",
   "metadata": {},
   "outputs": [
    {
     "data": {
      "image/png": "[encoded data removed]",
      "text/plain": [
       "<Figure size 640x480 with 1 Axes>"
      ]
     },
     "metadata": {},
     "output_type": "display_data"
    }
   ],
   "source": [
    "# Convert the Column Percent \n",
    "import seaborn as sns\n",
    "ratings = df['Rating'].values\n",
    "a = sns.histplot(ratings, stat='percent').set(title='Ratings by Percentage')\n"
   ]
  },
  {
   "cell_type": "code",
   "execution_count": 106,
   "id": "1d655a4a",
   "metadata": {
    "scrolled": false
   },
   "outputs": [
    {
     "data": {
      "text/plain": [
       "Text(0.5, 0, 'Cocoa Percent')"
      ]
     },
     "execution_count": 106,
     "metadata": {},
     "output_type": "execute_result"
    },
    {
     "data": {
      "image/png": "[encoded data removed]",
      "text/plain": [
       "<Figure size 1600x500 with 1 Axes>"
      ]
     },
     "metadata": {},
     "output_type": "display_data"
    }
   ],
   "source": [
    "# an output plot of the scatter plot between the cocoa percent values against the rating values\n",
    "# Hint: Try a scatter plot with small alpha, e.g., 0.1, to flush out the density of each point.\n",
    "try:\n",
    "    df[\"CocoaPercent\"] = df[\"CocoaPercent\"].str.replace(r'\\D',\"\").astype(int) # only need to run once because the column gets overwritten\n",
    "except:\n",
    "    pass\n",
    "\n",
    "try:\n",
    "    df.drop(df[df.CocoaPercent > 100].index, inplace = True)\n",
    "except:\n",
    "    pass\n",
    "\n",
    "ratings = df['Rating'].values\n",
    "percent = df['CocoaPercent'].values\n",
    "\n",
    "plt.figure(figsize = (16,5))\n",
    "plt.scatter(percent,ratings, alpha = .1)\n",
    "plt.xlabel(\"Cocoa Percent\")"
   ]
  },
  {
   "cell_type": "code",
   "execution_count": null,
   "id": "76784a35",
   "metadata": {},
   "outputs": [],
   "source": [
    " # the data is flat, therefore there is no distinct relationship between cocoa percent and rating"
   ]
  },
  {
   "cell_type": "code",
   "execution_count": 108,
   "id": "14f85eed",
   "metadata": {},
   "outputs": [
    {
     "data": {
      "text/plain": [
       "array([[3.75],\n",
       "       [2.75],\n",
       "       [3.  ],\n",
       "       ...,\n",
       "       [3.5 ],\n",
       "       [3.25],\n",
       "       [3.  ]])"
      ]
     },
     "execution_count": 108,
     "metadata": {},
     "output_type": "execute_result"
    }
   ],
   "source": [
    "# the normalized ratings column values\n",
    "from sklearn.preprocessing import StandardScaler\n",
    "scaler = StandardScaler()\n",
    "\n",
    "x = df.iloc[:,6:7].values\n",
    "x_normalized = scaler.fit_transform(x)\n",
    "x"
   ]
  },
  {
   "cell_type": "code",
   "execution_count": 109,
   "id": "63a3bd43",
   "metadata": {},
   "outputs": [
    {
     "data": {
      "text/plain": [
       "array([[ 1.1781045 ],\n",
       "       [-0.9152628 ],\n",
       "       [-0.39192097],\n",
       "       ...,\n",
       "       [ 0.65476267],\n",
       "       [ 0.13142085],\n",
       "       [-0.39192097]])"
      ]
     },
     "execution_count": 109,
     "metadata": {},
     "output_type": "execute_result"
    }
   ],
   "source": [
    "x_normalized"
   ]
  },
  {
   "cell_type": "code",
   "execution_count": 125,
   "id": "1ab3e232",
   "metadata": {},
   "outputs": [
    {
     "data": {
      "text/html": [
       "<div>\n",
       "<style scoped>\n",
       "    .dataframe tbody tr th:only-of-type {\n",
       "        vertical-align: middle;\n",
       "    }\n",
       "\n",
       "    .dataframe tbody tr th {\n",
       "        vertical-align: top;\n",
       "    }\n",
       "\n",
       "    .dataframe thead th {\n",
       "        text-align: right;\n",
       "    }\n",
       "</style>\n",
       "<table border=\"1\" class=\"dataframe\">\n",
       "  <thead>\n",
       "    <tr style=\"text-align: right;\">\n",
       "      <th></th>\n",
       "      <th>mean</th>\n",
       "    </tr>\n",
       "    <tr>\n",
       "      <th>Company</th>\n",
       "      <th></th>\n",
       "    </tr>\n",
       "  </thead>\n",
       "  <tbody>\n",
       "    <tr>\n",
       "      <th>Tobago Estate (Pralus)</th>\n",
       "      <td>4.000000</td>\n",
       "    </tr>\n",
       "    <tr>\n",
       "      <th>Heirloom Cacao Preservation (Zokoko)</th>\n",
       "      <td>3.875000</td>\n",
       "    </tr>\n",
       "    <tr>\n",
       "      <th>Ocelot</th>\n",
       "      <td>3.875000</td>\n",
       "    </tr>\n",
       "    <tr>\n",
       "      <th>Amedei</th>\n",
       "      <td>3.846154</td>\n",
       "    </tr>\n",
       "    <tr>\n",
       "      <th>Matale</th>\n",
       "      <td>3.812500</td>\n",
       "    </tr>\n",
       "    <tr>\n",
       "      <th>...</th>\n",
       "      <td>...</td>\n",
       "    </tr>\n",
       "    <tr>\n",
       "      <th>Ki' Xocolatl</th>\n",
       "      <td>2.000000</td>\n",
       "    </tr>\n",
       "    <tr>\n",
       "      <th>Majani</th>\n",
       "      <td>2.000000</td>\n",
       "    </tr>\n",
       "    <tr>\n",
       "      <th>Callebaut</th>\n",
       "      <td>1.875000</td>\n",
       "    </tr>\n",
       "    <tr>\n",
       "      <th>Machu Picchu Trading Co.</th>\n",
       "      <td>1.875000</td>\n",
       "    </tr>\n",
       "    <tr>\n",
       "      <th>Cote d' Or (Kraft)</th>\n",
       "      <td>1.000000</td>\n",
       "    </tr>\n",
       "  </tbody>\n",
       "</table>\n",
       "<p>415 rows × 1 columns</p>\n",
       "</div>"
      ],
      "text/plain": [
       "                                          mean\n",
       "Company                                       \n",
       "Tobago Estate (Pralus)                4.000000\n",
       "Heirloom Cacao Preservation (Zokoko)  3.875000\n",
       "Ocelot                                3.875000\n",
       "Amedei                                3.846154\n",
       "Matale                                3.812500\n",
       "...                                        ...\n",
       "Ki' Xocolatl                          2.000000\n",
       "Majani                                2.000000\n",
       "Callebaut                             1.875000\n",
       "Machu Picchu Trading Co.              1.875000\n",
       "Cote d' Or (Kraft)                    1.000000\n",
       "\n",
       "[415 rows x 1 columns]"
      ]
     },
     "execution_count": 125,
     "metadata": {},
     "output_type": "execute_result"
    }
   ],
   "source": [
    "# List the companies ordered by their average score (averaged over each company’s reviews). \n",
    "df.groupby('Company')[\"Rating\"].agg([\"mean\"]).sort_values(by = \"mean\", ascending=False)"
   ]
  },
  {
   "cell_type": "code",
   "execution_count": 128,
   "id": "53c4014a",
   "metadata": {},
   "outputs": [],
   "source": [
    "# Suppose we are interested in the company’s names and locations for some collective analysis. \n",
    "# Encode the two categorical columns with the encoder you think is best for the job! \n",
    "from sklearn.preprocessing import OrdinalEncoder\n",
    "\n",
    "encoder = OrdinalEncoder()\n",
    "df[['Company',\"CompanyLocation\"]] = encoder.fit_transform(df[['Company',\"CompanyLocation\"]] )"
   ]
  },
  {
   "cell_type": "code",
   "execution_count": 129,
   "id": "6de124ba",
   "metadata": {},
   "outputs": [
    {
     "data": {
      "text/html": [
       "<div>\n",
       "<style scoped>\n",
       "    .dataframe tbody tr th:only-of-type {\n",
       "        vertical-align: middle;\n",
       "    }\n",
       "\n",
       "    .dataframe tbody tr th {\n",
       "        vertical-align: top;\n",
       "    }\n",
       "\n",
       "    .dataframe thead th {\n",
       "        text-align: right;\n",
       "    }\n",
       "</style>\n",
       "<table border=\"1\" class=\"dataframe\">\n",
       "  <thead>\n",
       "    <tr style=\"text-align: right;\">\n",
       "      <th></th>\n",
       "      <th>Company</th>\n",
       "      <th>SpecificBeanOrigin</th>\n",
       "      <th>REF</th>\n",
       "      <th>ReviewDate</th>\n",
       "      <th>CocoaPercent</th>\n",
       "      <th>CompanyLocation</th>\n",
       "      <th>Rating</th>\n",
       "      <th>BeanType</th>\n",
       "      <th>BroadBeanOrigin</th>\n",
       "    </tr>\n",
       "  </thead>\n",
       "  <tbody>\n",
       "    <tr>\n",
       "      <th>0</th>\n",
       "      <td>0.0</td>\n",
       "      <td>Agua Grande</td>\n",
       "      <td>1876</td>\n",
       "      <td>2016</td>\n",
       "      <td>63</td>\n",
       "      <td>18.0</td>\n",
       "      <td>3.75</td>\n",
       "      <td></td>\n",
       "      <td>Sao Tome</td>\n",
       "    </tr>\n",
       "    <tr>\n",
       "      <th>1</th>\n",
       "      <td>0.0</td>\n",
       "      <td>Kpime</td>\n",
       "      <td>1676</td>\n",
       "      <td>2015</td>\n",
       "      <td>70</td>\n",
       "      <td>18.0</td>\n",
       "      <td>2.75</td>\n",
       "      <td></td>\n",
       "      <td>Togo</td>\n",
       "    </tr>\n",
       "    <tr>\n",
       "      <th>2</th>\n",
       "      <td>0.0</td>\n",
       "      <td>Atsane</td>\n",
       "      <td>1676</td>\n",
       "      <td>2015</td>\n",
       "      <td>70</td>\n",
       "      <td>18.0</td>\n",
       "      <td>3.00</td>\n",
       "      <td></td>\n",
       "      <td>Togo</td>\n",
       "    </tr>\n",
       "    <tr>\n",
       "      <th>3</th>\n",
       "      <td>0.0</td>\n",
       "      <td>Akata</td>\n",
       "      <td>1680</td>\n",
       "      <td>2015</td>\n",
       "      <td>70</td>\n",
       "      <td>18.0</td>\n",
       "      <td>3.50</td>\n",
       "      <td></td>\n",
       "      <td>Togo</td>\n",
       "    </tr>\n",
       "    <tr>\n",
       "      <th>4</th>\n",
       "      <td>0.0</td>\n",
       "      <td>Quilla</td>\n",
       "      <td>1704</td>\n",
       "      <td>2015</td>\n",
       "      <td>70</td>\n",
       "      <td>18.0</td>\n",
       "      <td>3.50</td>\n",
       "      <td></td>\n",
       "      <td>Peru</td>\n",
       "    </tr>\n",
       "    <tr>\n",
       "      <th>...</th>\n",
       "      <td>...</td>\n",
       "      <td>...</td>\n",
       "      <td>...</td>\n",
       "      <td>...</td>\n",
       "      <td>...</td>\n",
       "      <td>...</td>\n",
       "      <td>...</td>\n",
       "      <td>...</td>\n",
       "      <td>...</td>\n",
       "    </tr>\n",
       "    <tr>\n",
       "      <th>1790</th>\n",
       "      <td>409.0</td>\n",
       "      <td>Peru</td>\n",
       "      <td>647</td>\n",
       "      <td>2011</td>\n",
       "      <td>70</td>\n",
       "      <td>3.0</td>\n",
       "      <td>3.75</td>\n",
       "      <td></td>\n",
       "      <td>Peru</td>\n",
       "    </tr>\n",
       "    <tr>\n",
       "      <th>1791</th>\n",
       "      <td>409.0</td>\n",
       "      <td>Congo</td>\n",
       "      <td>749</td>\n",
       "      <td>2011</td>\n",
       "      <td>65</td>\n",
       "      <td>3.0</td>\n",
       "      <td>3.00</td>\n",
       "      <td>Forastero</td>\n",
       "      <td>Congo</td>\n",
       "    </tr>\n",
       "    <tr>\n",
       "      <th>1792</th>\n",
       "      <td>409.0</td>\n",
       "      <td>Kerala State</td>\n",
       "      <td>749</td>\n",
       "      <td>2011</td>\n",
       "      <td>65</td>\n",
       "      <td>3.0</td>\n",
       "      <td>3.50</td>\n",
       "      <td>Forastero</td>\n",
       "      <td>India</td>\n",
       "    </tr>\n",
       "    <tr>\n",
       "      <th>1793</th>\n",
       "      <td>409.0</td>\n",
       "      <td>Kerala State</td>\n",
       "      <td>781</td>\n",
       "      <td>2011</td>\n",
       "      <td>62</td>\n",
       "      <td>3.0</td>\n",
       "      <td>3.25</td>\n",
       "      <td></td>\n",
       "      <td>India</td>\n",
       "    </tr>\n",
       "    <tr>\n",
       "      <th>1794</th>\n",
       "      <td>409.0</td>\n",
       "      <td>Brazil, Mitzi Blue</td>\n",
       "      <td>486</td>\n",
       "      <td>2010</td>\n",
       "      <td>65</td>\n",
       "      <td>3.0</td>\n",
       "      <td>3.00</td>\n",
       "      <td></td>\n",
       "      <td>Brazil</td>\n",
       "    </tr>\n",
       "  </tbody>\n",
       "</table>\n",
       "<p>1788 rows × 9 columns</p>\n",
       "</div>"
      ],
      "text/plain": [
       "      Company  SpecificBeanOrigin   REF  ReviewDate  CocoaPercent  \\\n",
       "0         0.0         Agua Grande  1876        2016            63   \n",
       "1         0.0               Kpime  1676        2015            70   \n",
       "2         0.0              Atsane  1676        2015            70   \n",
       "3         0.0               Akata  1680        2015            70   \n",
       "4         0.0              Quilla  1704        2015            70   \n",
       "...       ...                 ...   ...         ...           ...   \n",
       "1790    409.0                Peru   647        2011            70   \n",
       "1791    409.0               Congo   749        2011            65   \n",
       "1792    409.0        Kerala State   749        2011            65   \n",
       "1793    409.0        Kerala State   781        2011            62   \n",
       "1794    409.0  Brazil, Mitzi Blue   486        2010            65   \n",
       "\n",
       "      CompanyLocation  Rating   BeanType BroadBeanOrigin  \n",
       "0                18.0    3.75                   Sao Tome  \n",
       "1                18.0    2.75                       Togo  \n",
       "2                18.0    3.00                       Togo  \n",
       "3                18.0    3.50                       Togo  \n",
       "4                18.0    3.50                       Peru  \n",
       "...               ...     ...        ...             ...  \n",
       "1790              3.0    3.75                       Peru  \n",
       "1791              3.0    3.00  Forastero           Congo  \n",
       "1792              3.0    3.50  Forastero           India  \n",
       "1793              3.0    3.25                      India  \n",
       "1794              3.0    3.00                     Brazil  \n",
       "\n",
       "[1788 rows x 9 columns]"
      ]
     },
     "execution_count": 129,
     "metadata": {},
     "output_type": "execute_result"
    }
   ],
   "source": [
    "df"
   ]
  },
  {
   "cell_type": "code",
   "execution_count": null,
   "id": "a9c324d3",
   "metadata": {},
   "outputs": [],
   "source": []
  }
 ],
 "metadata": {
  "kernelspec": {
   "display_name": "Python 3 (ipykernel)",
   "language": "python",
   "name": "python3"
  },
  "language_info": {
   "codemirror_mode": {
    "name": "ipython",
    "version": 3
   },
   "file_extension": ".py",
   "mimetype": "text/x-python",
   "name": "python",
   "nbconvert_exporter": "python",
   "pygments_lexer": "ipython3",
   "version": "3.10.9"
  }
 },
 "nbformat": 4,
 "nbformat_minor": 5
}
